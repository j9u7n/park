{
 "cells": [
  {
   "cell_type": "code",
   "execution_count": 8,
   "id": "93c149de",
   "metadata": {},
   "outputs": [],
   "source": [
    "import numpy as np\n",
    "import subprocess"
   ]
  },
  {
   "cell_type": "code",
   "execution_count": 9,
   "id": "f99ca3c7",
   "metadata": {},
   "outputs": [
    {
     "name": "stderr",
     "output_type": "stream",
     "text": [
      "<>:34: SyntaxWarning: \"is not\" with a literal. Did you mean \"!=\"?\n",
      "<>:34: SyntaxWarning: \"is not\" with a literal. Did you mean \"!=\"?\n",
      "C:\\Users\\park\\AppData\\Local\\Temp/ipykernel_19896/935984255.py:34: SyntaxWarning: \"is not\" with a literal. Did you mean \"!=\"?\n",
      "  if pair is not 0:\n"
     ]
    }
   ],
   "source": [
    "\n",
    "def get_aupr(Y, P):\n",
    "    Y = np.concatenate(Y)\n",
    "    P = np.concatenate(P)\n",
    "    if hasattr(Y, 'A'): Y = Y.A\n",
    "    if hasattr(P, 'A'): P = P.A\n",
    "    Y = np.where(Y > 7, 1, 0)\n",
    "    Y = Y.ravel()\n",
    "    P = P.ravel()\n",
    "    f = open(\"temp.txt\", 'w')\n",
    "    for i in range(Y.shape[0]):\n",
    "        f.write(\"%f %d\\n\" % (P[i], Y[i]))\n",
    "    f.close()\n",
    "    f = open(\"foo.txt\", 'w')\n",
    "    subprocess.call([\"java\", \"-jar\", \"auc.jar\", \"temp.txt\", \"list\"], stdout=f)\n",
    "    f.close()\n",
    "    f = open(\"foo.txt\")\n",
    "    lines = f.readlines()\n",
    "    aucpr = float(lines[-2].split()[-1])\n",
    "    f.close()\n",
    "    return aucpr\n",
    "\n",
    "\n",
    "def get_cindex(Y, P):\n",
    "    summ = 0\n",
    "    pair = 0\n",
    "\n",
    "    for i in range(1, len(Y)):\n",
    "        for j in range(0, i):\n",
    "            if i is not j:\n",
    "                if (Y[i] > Y[j]):\n",
    "                    pair += 1\n",
    "                    summ += 1 * (P[i] > P[j]) + 0.5 * (P[i] == P[j])\n",
    "\n",
    "    if pair is not 0:\n",
    "        return summ / pair\n",
    "    else:\n",
    "        return 0\n",
    "\n",
    "\n",
    "def r_squared_error(y_obs, y_pred):\n",
    "    y_obs = np.array(y_obs)\n",
    "    y_pred = np.array(y_pred)\n",
    "    y_obs_mean = [np.mean(y_obs) for y in y_obs]\n",
    "    y_pred_mean = [np.mean(y_pred) for y in y_pred]\n",
    "\n",
    "    mult = sum((y_pred - y_pred_mean) * (y_obs - y_obs_mean))\n",
    "    mult = mult * mult\n",
    "\n",
    "    y_obs_sq = sum((y_obs - y_obs_mean) * (y_obs - y_obs_mean))\n",
    "    y_pred_sq = sum((y_pred - y_pred_mean) * (y_pred - y_pred_mean))\n",
    "    return mult / float(y_obs_sq * y_pred_sq)\n",
    "\n",
    "\n",
    "def get_k(y_obs, y_pred):\n",
    "    y_obs = np.array(y_obs)\n",
    "    y_pred = np.array(y_pred)\n",
    "\n",
    "    return sum(y_obs * y_pred) / float(sum(y_pred * y_pred))\n",
    "\n",
    "\n",
    "def squared_error_zero(y_obs, y_pred):\n",
    "    k = get_k(y_obs, y_pred)\n",
    "\n",
    "    y_obs = np.array(y_obs)\n",
    "    y_pred = np.array(y_pred)\n",
    "    y_obs_mean = [np.mean(y_obs) for y in y_obs]\n",
    "    upp = sum((y_obs - (k * y_pred)) * (y_obs - (k * y_pred)))\n",
    "    down = sum((y_obs - y_obs_mean) * (y_obs - y_obs_mean))\n",
    "\n",
    "    return 1 - (upp / float(down))\n",
    "\n",
    "\n",
    "def get_rm2(ys_orig, ys_line):\n",
    "    ys_orig = np.concatenate(ys_orig)\n",
    "    ys_line = np.concatenate(ys_line)\n",
    "    r2 = r_squared_error(ys_orig, ys_line)\n",
    "    r02 = squared_error_zero(ys_orig, ys_line)\n",
    "\n",
    "    return r2 * (1 - np.sqrt(np.absolute((r2 * r2) - (r02 * r02))))"
   ]
  },
  {
   "cell_type": "code",
   "execution_count": null,
   "id": "11783277",
   "metadata": {},
   "outputs": [],
   "source": []
  }
 ],
 "metadata": {
  "kernelspec": {
   "display_name": "Python 3 (ipykernel)",
   "language": "python",
   "name": "python3"
  },
  "language_info": {
   "codemirror_mode": {
    "name": "ipython",
    "version": 3
   },
   "file_extension": ".py",
   "mimetype": "text/x-python",
   "name": "python",
   "nbconvert_exporter": "python",
   "pygments_lexer": "ipython3",
   "version": "3.8.12"
  }
 },
 "nbformat": 4,
 "nbformat_minor": 5
}
